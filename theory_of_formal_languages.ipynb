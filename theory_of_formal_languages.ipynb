{
 "cells": [
  {
   "cell_type": "markdown",
   "id": "6f25497e",
   "metadata": {},
   "source": [
    "### Практическая работа №1"
   ]
  },
  {
   "cell_type": "markdown",
   "id": "797134df",
   "metadata": {},
   "source": [
    "<h6>Задание:</h6>\n",
    "\n",
    "На любом языке программирования реализовать преобразование простого алгебраического выражения в обратную польскую запись.\n",
    "\n",
    "<h6>Решение:</h6>"
   ]
  },
  {
   "cell_type": "code",
   "execution_count": 3,
   "id": "f6bb5396",
   "metadata": {},
   "outputs": [
    {
     "name": "stdout",
     "output_type": "stream",
     "text": [
      "Введите алгебраическое выражение: 2 + 2 * 2\n",
      "Обратная польская запись: 2 2 2 * +\n"
     ]
    }
   ],
   "source": [
    "def precedence(operator):\n",
    "    if operator == '+' or operator == '-':\n",
    "        return 1\n",
    "    elif operator == '*' or operator == '/':\n",
    "        return 2\n",
    "    return 0\n",
    "def infix_to_postfix(expression):\n",
    "    output = []\n",
    "    stack = []\n",
    "    for token in expression.split():\n",
    "        if token.isnumeric():\n",
    "            output.append(token)\n",
    "        elif token == '(':\n",
    "            stack.append(token)\n",
    "        elif token == ')':\n",
    "            while stack and stack[-1] != '(':\n",
    "                output.append(stack.pop())\n",
    "            stack.pop()\n",
    "        else:\n",
    "            while stack and precedence(stack[-1]) >= precedence(token):\n",
    "                output.append(stack.pop())\n",
    "            stack.append(token)\n",
    "    while stack:\n",
    "        output.append(stack.pop())\n",
    "    return ' '.join(output)\n",
    "\n",
    "input_expression = input(\"Введите алгебраическое выражение: \")\n",
    "output_expression = infix_to_postfix(input_expression)\n",
    "print(f\"Обратная польская запись: {output_expression}\")"
   ]
  },
  {
   "cell_type": "markdown",
   "id": "80b63466",
   "metadata": {},
   "source": [
    "### Практическая работа №2"
   ]
  },
  {
   "cell_type": "markdown",
   "id": "30e775a3",
   "metadata": {},
   "source": [
    "<h6>Задание:</h6>\n",
    "\n",
    "На любом языке программирования реализовать простой калькулятор алгебраических выражений в обратной польской записи с целыми числами. Поддерживаемые операции: сложение, вычитание, умножение, деление.\n",
    "\n",
    "<h6>Решение:</h6>"
   ]
  },
  {
   "cell_type": "code",
   "execution_count": 2,
   "id": "d5b10668",
   "metadata": {},
   "outputs": [
    {
     "name": "stdout",
     "output_type": "stream",
     "text": [
      "Введите выражение в обратной польской записи: 2 2 2 * +\n",
      "Результат выражения: 6\n"
     ]
    }
   ],
   "source": [
    "def calculate(expression):\n",
    "    stack = []\n",
    "    for token in expression:\n",
    "        if token.isdigit() or (token[0] == '-' and token[1:].isdigit()):\n",
    "            stack.append(int(token))\n",
    "        else:\n",
    "            operand2 = stack.pop()\n",
    "            operand1 = stack.pop()\n",
    "            if token == '+':\n",
    "                stack.append(operand1 + operand2)\n",
    "            elif token == '-':\n",
    "                stack.append(operand1 - operand2)\n",
    "            elif token == '*':\n",
    "                stack.append(operand1 * operand2)\n",
    "            elif token == '/':\n",
    "                stack.append(operand1 / operand2)\n",
    "    return stack[0]\n",
    "\n",
    "input_expression = input(\"Введите выражение в обратной польской записи: \")\n",
    "tokens = input_expression.split()\n",
    "result = calculate(tokens)\n",
    "print(\"Результат выражения:\", result)"
   ]
  }
 ],
 "metadata": {
  "kernelspec": {
   "display_name": "Python 3 (ipykernel)",
   "language": "python",
   "name": "python3"
  },
  "language_info": {
   "codemirror_mode": {
    "name": "ipython",
    "version": 3
   },
   "file_extension": ".py",
   "mimetype": "text/x-python",
   "name": "python",
   "nbconvert_exporter": "python",
   "pygments_lexer": "ipython3",
   "version": "3.11.4"
  }
 },
 "nbformat": 4,
 "nbformat_minor": 5
}
